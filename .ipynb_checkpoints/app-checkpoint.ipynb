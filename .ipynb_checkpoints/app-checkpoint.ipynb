{
 "cells": [
  {
   "cell_type": "code",
   "execution_count": 1,
   "metadata": {},
   "outputs": [],
   "source": [
    "import csv\n",
    "import numpy as np\n",
    "import matplotlib.pyplot as plt"
   ]
  },
  {
   "cell_type": "code",
   "execution_count": 2,
   "metadata": {},
   "outputs": [],
   "source": [
    "from sklearn.preprocessing import MinMaxScaler"
   ]
  },
  {
   "cell_type": "code",
   "execution_count": 3,
   "metadata": {},
   "outputs": [],
   "source": [
    "import tensorflow as tf\n",
    "from tensorflow.python.keras import Sequential\n",
    "from tensorflow.python.keras.layers import Dense, Flatten, Conv2D, MaxPooling2D, Dropout"
   ]
  },
  {
   "cell_type": "markdown",
   "metadata": {},
   "source": [
    "### PROCESS"
   ]
  },
  {
   "cell_type": "code",
   "execution_count": 4,
   "metadata": {},
   "outputs": [],
   "source": [
    "def process(src):\n",
    "    \n",
    "    # PLACEHOLDER CONTAINERS\n",
    "    features = []\n",
    "    labels = []\n",
    "    \n",
    "    # OPEN & LOOP THROUGH FILE ROWS\n",
    "    with open(src) as file:\n",
    "        reader = csv.reader(file, delimiter=',')\n",
    "        for row in reader:\n",
    "            \n",
    "            # APPEND TO CONTAINERS\n",
    "            features.append(row[:-1])\n",
    "            labels.append(row[-1])\n",
    "    \n",
    "    # CONVERT BOTH TO NUMPY ARRAYS & RETURN\n",
    "    return features[1:], labels[1:]"
   ]
  },
  {
   "cell_type": "markdown",
   "metadata": {},
   "source": [
    "### MODEL"
   ]
  },
  {
   "cell_type": "code",
   "execution_count": 19,
   "metadata": {},
   "outputs": [],
   "source": [
    "def create_model(settings, features, labels):\n",
    "    \n",
    "    # INSTANTIATE & FIT THE SCALER\n",
    "    scaler = MinMaxScaler()\n",
    "    scaler.fit(features)\n",
    "    \n",
    "    # NORMALIZE FEATURES, THEN CONVERT LABELS TO NUMPY ARRAY\n",
    "    features = scaler.transform(features)\n",
    "    labels = np.asarray(labels, dtype = np.float32)\n",
    "    \n",
    "    # CREATE THE BASELINE MODEL\n",
    "    model = Sequential()\n",
    "    \n",
    "    # ADD INPUT LAYER\n",
    "    model.add(Dense(\n",
    "        32,\n",
    "        activation = 'relu',\n",
    "        input_shape = (features.shape[1],)\n",
    "    ))\n",
    "    \n",
    "    # ADD HIDDEN LAYER\n",
    "    model.add(Dense(\n",
    "        32,\n",
    "        activation = 'relu'\n",
    "    ))\n",
    "    \n",
    "    # ADD OUTPUT LAYER\n",
    "    model.add(Dense(\n",
    "        1,\n",
    "        activation = 'sigmoid'\n",
    "    ))\n",
    "    \n",
    "    # COMPILE IT\n",
    "    model.compile(\n",
    "        loss = settings['loss'],\n",
    "        optimizer = settings['optimizer'],\n",
    "        metrics = ['accuracy']\n",
    "    )\n",
    "    \n",
    "    # FIT IT\n",
    "    fitting = model.fit(\n",
    "        features,\n",
    "        labels,\n",
    "        epochs = settings['epochs'],\n",
    "        batch_size = settings['batch'],\n",
    "        validation_split = settings['split']\n",
    "    )\n",
    "    \n",
    "    return {\n",
    "        'classifier': model,\n",
    "        'history': fitting.history,\n",
    "        'normalizer': scaler\n",
    "    }"
   ]
  },
  {
   "cell_type": "code",
   "execution_count": 6,
   "metadata": {},
   "outputs": [],
   "source": [
    "def inspect(model):\n",
    "    \n",
    "    # FIND NUMBER OF EPOCHS\n",
    "    epochs = range(1, len(model['history']['accuracy']) + 1)\n",
    "    \n",
    "    # CREATE FIGURE BASE\n",
    "    plt.figure(figsize=(15,6))\n",
    "    \n",
    "    # SET BOTH LINES\n",
    "    plt.plot(epochs, model['history']['loss'], 'b', label = 'Training')\n",
    "    plt.plot(epochs, model['history']['val_loss'], 'b', label = 'Validation', color='red')\n",
    "    \n",
    "    # SET LABELS & LEGEND\n",
    "    plt.xlabel('Epochs')\n",
    "    plt.ylabel('Loss Percent')\n",
    "    plt.legend()\n",
    "    \n",
    "    # FINALLY SHOW\n",
    "    plt.show()"
   ]
  },
  {
   "cell_type": "code",
   "execution_count": 46,
   "metadata": {},
   "outputs": [],
   "source": [
    "def predict(feature, model):\n",
    "    \n",
    "    # NORMALIZE FEATURE\n",
    "    feature = model['normalizer'].transform([feature])\n",
    "    \n",
    "    # RETURN THE PREDICTION RESULT\n",
    "    return model['classifier'].predict(feature)[0][0]"
   ]
  },
  {
   "cell_type": "markdown",
   "metadata": {},
   "source": [
    "### ASSIGNMENT"
   ]
  },
  {
   "cell_type": "code",
   "execution_count": 8,
   "metadata": {},
   "outputs": [],
   "source": [
    "features, labels = process('data.csv')"
   ]
  },
  {
   "cell_type": "code",
   "execution_count": 9,
   "metadata": {
    "scrolled": true
   },
   "outputs": [
    {
     "name": "stdout",
     "output_type": "stream",
     "text": [
      "Train on 1168 samples, validate on 292 samples\n",
      "Epoch 1/100\n",
      "1168/1168 [==============================] - 0s 262us/sample - loss: 0.7028 - accuracy: 0.3647 - val_loss: 0.6959 - val_accuracy: 0.3836\n",
      "Epoch 2/100\n",
      "1168/1168 [==============================] - 0s 36us/sample - loss: 0.6918 - accuracy: 0.4538 - val_loss: 0.6852 - val_accuracy: 0.4863\n",
      "Epoch 3/100\n",
      "1168/1168 [==============================] - 0s 35us/sample - loss: 0.6802 - accuracy: 0.5437 - val_loss: 0.6744 - val_accuracy: 0.5685\n",
      "Epoch 4/100\n",
      "1168/1168 [==============================] - 0s 34us/sample - loss: 0.6710 - accuracy: 0.5771 - val_loss: 0.6674 - val_accuracy: 0.6336\n",
      "Epoch 5/100\n",
      "1168/1168 [==============================] - 0s 34us/sample - loss: 0.6639 - accuracy: 0.6413 - val_loss: 0.6605 - val_accuracy: 0.7021\n",
      "Epoch 6/100\n",
      "1168/1168 [==============================] - 0s 84us/sample - loss: 0.6565 - accuracy: 0.7423 - val_loss: 0.6538 - val_accuracy: 0.7260\n",
      "Epoch 7/100\n",
      "1168/1168 [==============================] - 0s 35us/sample - loss: 0.6495 - accuracy: 0.7671 - val_loss: 0.6473 - val_accuracy: 0.7637\n",
      "Epoch 8/100\n",
      "1168/1168 [==============================] - 0s 34us/sample - loss: 0.6426 - accuracy: 0.7783 - val_loss: 0.6408 - val_accuracy: 0.8014\n",
      "Epoch 9/100\n",
      "1168/1168 [==============================] - 0s 38us/sample - loss: 0.6354 - accuracy: 0.7945 - val_loss: 0.6342 - val_accuracy: 0.8288\n",
      "Epoch 10/100\n",
      "1168/1168 [==============================] - 0s 35us/sample - loss: 0.6283 - accuracy: 0.8159 - val_loss: 0.6275 - val_accuracy: 0.8390\n",
      "Epoch 11/100\n",
      "1168/1168 [==============================] - 0s 37us/sample - loss: 0.6210 - accuracy: 0.8288 - val_loss: 0.6207 - val_accuracy: 0.8356\n",
      "Epoch 12/100\n",
      "1168/1168 [==============================] - 0s 35us/sample - loss: 0.6134 - accuracy: 0.8373 - val_loss: 0.6136 - val_accuracy: 0.8390\n",
      "Epoch 13/100\n",
      "1168/1168 [==============================] - 0s 35us/sample - loss: 0.6056 - accuracy: 0.8442 - val_loss: 0.6061 - val_accuracy: 0.8356\n",
      "Epoch 14/100\n",
      "1168/1168 [==============================] - 0s 35us/sample - loss: 0.5973 - accuracy: 0.8442 - val_loss: 0.5983 - val_accuracy: 0.8356\n",
      "Epoch 15/100\n",
      "1168/1168 [==============================] - 0s 36us/sample - loss: 0.5887 - accuracy: 0.8493 - val_loss: 0.5902 - val_accuracy: 0.8390\n",
      "Epoch 16/100\n",
      "1168/1168 [==============================] - 0s 34us/sample - loss: 0.5799 - accuracy: 0.8562 - val_loss: 0.5819 - val_accuracy: 0.8390\n",
      "Epoch 17/100\n",
      "1168/1168 [==============================] - 0s 34us/sample - loss: 0.5706 - accuracy: 0.8502 - val_loss: 0.5732 - val_accuracy: 0.8425\n",
      "Epoch 18/100\n",
      "1168/1168 [==============================] - 0s 34us/sample - loss: 0.5611 - accuracy: 0.8553 - val_loss: 0.5641 - val_accuracy: 0.8425\n",
      "Epoch 19/100\n",
      "1168/1168 [==============================] - 0s 34us/sample - loss: 0.5509 - accuracy: 0.8579 - val_loss: 0.5548 - val_accuracy: 0.8425\n",
      "Epoch 20/100\n",
      "1168/1168 [==============================] - 0s 33us/sample - loss: 0.5409 - accuracy: 0.8647 - val_loss: 0.5453 - val_accuracy: 0.8425\n",
      "Epoch 21/100\n",
      "1168/1168 [==============================] - 0s 35us/sample - loss: 0.5303 - accuracy: 0.8647 - val_loss: 0.5356 - val_accuracy: 0.8493\n",
      "Epoch 22/100\n",
      "1168/1168 [==============================] - 0s 34us/sample - loss: 0.5197 - accuracy: 0.8604 - val_loss: 0.5257 - val_accuracy: 0.8527\n",
      "Epoch 23/100\n",
      "1168/1168 [==============================] - 0s 35us/sample - loss: 0.5089 - accuracy: 0.8656 - val_loss: 0.5159 - val_accuracy: 0.8527\n",
      "Epoch 24/100\n",
      "1168/1168 [==============================] - 0s 34us/sample - loss: 0.4981 - accuracy: 0.8647 - val_loss: 0.5059 - val_accuracy: 0.8562\n",
      "Epoch 25/100\n",
      "1168/1168 [==============================] - 0s 34us/sample - loss: 0.4874 - accuracy: 0.8690 - val_loss: 0.4959 - val_accuracy: 0.8493\n",
      "Epoch 26/100\n",
      "1168/1168 [==============================] - 0s 33us/sample - loss: 0.4765 - accuracy: 0.8673 - val_loss: 0.4863 - val_accuracy: 0.8562\n",
      "Epoch 27/100\n",
      "1168/1168 [==============================] - 0s 35us/sample - loss: 0.4662 - accuracy: 0.8707 - val_loss: 0.4767 - val_accuracy: 0.8562\n",
      "Epoch 28/100\n",
      "1168/1168 [==============================] - 0s 33us/sample - loss: 0.4557 - accuracy: 0.8604 - val_loss: 0.4674 - val_accuracy: 0.8527\n",
      "Epoch 29/100\n",
      "1168/1168 [==============================] - 0s 33us/sample - loss: 0.4454 - accuracy: 0.8707 - val_loss: 0.4584 - val_accuracy: 0.8562\n",
      "Epoch 30/100\n",
      "1168/1168 [==============================] - 0s 34us/sample - loss: 0.4354 - accuracy: 0.8673 - val_loss: 0.4498 - val_accuracy: 0.8562\n",
      "Epoch 31/100\n",
      "1168/1168 [==============================] - 0s 35us/sample - loss: 0.4261 - accuracy: 0.8699 - val_loss: 0.4414 - val_accuracy: 0.8596\n",
      "Epoch 32/100\n",
      "1168/1168 [==============================] - 0s 34us/sample - loss: 0.4169 - accuracy: 0.8716 - val_loss: 0.4334 - val_accuracy: 0.8493\n",
      "Epoch 33/100\n",
      "1168/1168 [==============================] - 0s 34us/sample - loss: 0.4080 - accuracy: 0.8716 - val_loss: 0.4257 - val_accuracy: 0.8527\n",
      "Epoch 34/100\n",
      "1168/1168 [==============================] - 0s 35us/sample - loss: 0.3997 - accuracy: 0.8716 - val_loss: 0.4186 - val_accuracy: 0.8493\n",
      "Epoch 35/100\n",
      "1168/1168 [==============================] - 0s 34us/sample - loss: 0.3916 - accuracy: 0.8716 - val_loss: 0.4117 - val_accuracy: 0.8527\n",
      "Epoch 36/100\n",
      "1168/1168 [==============================] - 0s 34us/sample - loss: 0.3842 - accuracy: 0.8690 - val_loss: 0.4054 - val_accuracy: 0.8562\n",
      "Epoch 37/100\n",
      "1168/1168 [==============================] - 0s 35us/sample - loss: 0.3769 - accuracy: 0.8767 - val_loss: 0.3995 - val_accuracy: 0.8459\n",
      "Epoch 38/100\n",
      "1168/1168 [==============================] - 0s 34us/sample - loss: 0.3704 - accuracy: 0.8707 - val_loss: 0.3936 - val_accuracy: 0.8493\n",
      "Epoch 39/100\n",
      "1168/1168 [==============================] - 0s 34us/sample - loss: 0.3642 - accuracy: 0.8750 - val_loss: 0.3884 - val_accuracy: 0.8562\n",
      "Epoch 40/100\n",
      "1168/1168 [==============================] - 0s 33us/sample - loss: 0.3584 - accuracy: 0.8707 - val_loss: 0.3837 - val_accuracy: 0.8527\n",
      "Epoch 41/100\n",
      "1168/1168 [==============================] - 0s 34us/sample - loss: 0.3532 - accuracy: 0.8784 - val_loss: 0.3792 - val_accuracy: 0.8562\n",
      "Epoch 42/100\n",
      "1168/1168 [==============================] - 0s 34us/sample - loss: 0.3484 - accuracy: 0.8793 - val_loss: 0.3749 - val_accuracy: 0.8596\n",
      "Epoch 43/100\n",
      "1168/1168 [==============================] - 0s 34us/sample - loss: 0.3431 - accuracy: 0.8767 - val_loss: 0.3714 - val_accuracy: 0.8630\n",
      "Epoch 44/100\n",
      "1168/1168 [==============================] - 0s 33us/sample - loss: 0.3390 - accuracy: 0.8776 - val_loss: 0.3678 - val_accuracy: 0.8527\n",
      "Epoch 45/100\n",
      "1168/1168 [==============================] - 0s 35us/sample - loss: 0.3346 - accuracy: 0.8818 - val_loss: 0.3641 - val_accuracy: 0.8562\n",
      "Epoch 46/100\n",
      "1168/1168 [==============================] - 0s 34us/sample - loss: 0.3307 - accuracy: 0.8810 - val_loss: 0.3612 - val_accuracy: 0.8596\n",
      "Epoch 47/100\n",
      "1168/1168 [==============================] - 0s 35us/sample - loss: 0.3271 - accuracy: 0.8793 - val_loss: 0.3583 - val_accuracy: 0.8596\n",
      "Epoch 48/100\n",
      "1168/1168 [==============================] - 0s 35us/sample - loss: 0.3237 - accuracy: 0.8767 - val_loss: 0.3555 - val_accuracy: 0.8664\n",
      "Epoch 49/100\n",
      "1168/1168 [==============================] - 0s 34us/sample - loss: 0.3200 - accuracy: 0.8784 - val_loss: 0.3529 - val_accuracy: 0.8562\n",
      "Epoch 50/100\n",
      "1168/1168 [==============================] - 0s 33us/sample - loss: 0.3173 - accuracy: 0.8853 - val_loss: 0.3505 - val_accuracy: 0.8664\n",
      "Epoch 51/100\n",
      "1168/1168 [==============================] - 0s 34us/sample - loss: 0.3146 - accuracy: 0.8818 - val_loss: 0.3483 - val_accuracy: 0.8664\n",
      "Epoch 52/100\n",
      "1168/1168 [==============================] - 0s 34us/sample - loss: 0.3119 - accuracy: 0.8836 - val_loss: 0.3461 - val_accuracy: 0.8664\n",
      "Epoch 53/100\n",
      "1168/1168 [==============================] - 0s 34us/sample - loss: 0.3097 - accuracy: 0.8818 - val_loss: 0.3441 - val_accuracy: 0.8664\n",
      "Epoch 54/100\n",
      "1168/1168 [==============================] - 0s 35us/sample - loss: 0.3070 - accuracy: 0.8801 - val_loss: 0.3425 - val_accuracy: 0.8664\n",
      "Epoch 55/100\n",
      "1168/1168 [==============================] - 0s 34us/sample - loss: 0.3048 - accuracy: 0.8818 - val_loss: 0.3409 - val_accuracy: 0.8630\n"
     ]
    },
    {
     "name": "stdout",
     "output_type": "stream",
     "text": [
      "Epoch 56/100\n",
      "1168/1168 [==============================] - 0s 35us/sample - loss: 0.3028 - accuracy: 0.8810 - val_loss: 0.3392 - val_accuracy: 0.8664\n",
      "Epoch 57/100\n",
      "1168/1168 [==============================] - 0s 33us/sample - loss: 0.3007 - accuracy: 0.8818 - val_loss: 0.3375 - val_accuracy: 0.8664\n",
      "Epoch 58/100\n",
      "1168/1168 [==============================] - 0s 33us/sample - loss: 0.2987 - accuracy: 0.8836 - val_loss: 0.3367 - val_accuracy: 0.8733\n",
      "Epoch 59/100\n",
      "1168/1168 [==============================] - 0s 35us/sample - loss: 0.2972 - accuracy: 0.8836 - val_loss: 0.3349 - val_accuracy: 0.8664\n",
      "Epoch 60/100\n",
      "1168/1168 [==============================] - 0s 34us/sample - loss: 0.2956 - accuracy: 0.8844 - val_loss: 0.3346 - val_accuracy: 0.8699\n",
      "Epoch 61/100\n",
      "1168/1168 [==============================] - 0s 34us/sample - loss: 0.2940 - accuracy: 0.8836 - val_loss: 0.3323 - val_accuracy: 0.8664\n",
      "Epoch 62/100\n",
      "1168/1168 [==============================] - 0s 34us/sample - loss: 0.2918 - accuracy: 0.8861 - val_loss: 0.3314 - val_accuracy: 0.8699\n",
      "Epoch 63/100\n",
      "1168/1168 [==============================] - 0s 34us/sample - loss: 0.2905 - accuracy: 0.8861 - val_loss: 0.3301 - val_accuracy: 0.8699\n",
      "Epoch 64/100\n",
      "1168/1168 [==============================] - 0s 34us/sample - loss: 0.2893 - accuracy: 0.8853 - val_loss: 0.3292 - val_accuracy: 0.8699\n",
      "Epoch 65/100\n",
      "1168/1168 [==============================] - 0s 33us/sample - loss: 0.2886 - accuracy: 0.8853 - val_loss: 0.3280 - val_accuracy: 0.8699\n",
      "Epoch 66/100\n",
      "1168/1168 [==============================] - 0s 34us/sample - loss: 0.2861 - accuracy: 0.8861 - val_loss: 0.3287 - val_accuracy: 0.8801\n",
      "Epoch 67/100\n",
      "1168/1168 [==============================] - 0s 32us/sample - loss: 0.2853 - accuracy: 0.8844 - val_loss: 0.3262 - val_accuracy: 0.8767\n",
      "Epoch 68/100\n",
      "1168/1168 [==============================] - 0s 33us/sample - loss: 0.2837 - accuracy: 0.8861 - val_loss: 0.3253 - val_accuracy: 0.8699\n",
      "Epoch 69/100\n",
      "1168/1168 [==============================] - 0s 34us/sample - loss: 0.2827 - accuracy: 0.8861 - val_loss: 0.3244 - val_accuracy: 0.8733\n",
      "Epoch 70/100\n",
      "1168/1168 [==============================] - 0s 34us/sample - loss: 0.2818 - accuracy: 0.8861 - val_loss: 0.3239 - val_accuracy: 0.8801\n",
      "Epoch 71/100\n",
      "1168/1168 [==============================] - 0s 34us/sample - loss: 0.2798 - accuracy: 0.8853 - val_loss: 0.3235 - val_accuracy: 0.8767\n",
      "Epoch 72/100\n",
      "1168/1168 [==============================] - 0s 34us/sample - loss: 0.2797 - accuracy: 0.8878 - val_loss: 0.3239 - val_accuracy: 0.8767\n",
      "Epoch 73/100\n",
      "1168/1168 [==============================] - 0s 33us/sample - loss: 0.2786 - accuracy: 0.8878 - val_loss: 0.3221 - val_accuracy: 0.8801\n",
      "Epoch 74/100\n",
      "1168/1168 [==============================] - 0s 34us/sample - loss: 0.2787 - accuracy: 0.8878 - val_loss: 0.3213 - val_accuracy: 0.8801\n",
      "Epoch 75/100\n",
      "1168/1168 [==============================] - 0s 33us/sample - loss: 0.2760 - accuracy: 0.8827 - val_loss: 0.3210 - val_accuracy: 0.8699\n",
      "Epoch 76/100\n",
      "1168/1168 [==============================] - 0s 33us/sample - loss: 0.2761 - accuracy: 0.8904 - val_loss: 0.3193 - val_accuracy: 0.8801\n",
      "Epoch 77/100\n",
      "1168/1168 [==============================] - 0s 33us/sample - loss: 0.2746 - accuracy: 0.8870 - val_loss: 0.3186 - val_accuracy: 0.8699\n",
      "Epoch 78/100\n",
      "1168/1168 [==============================] - 0s 34us/sample - loss: 0.2739 - accuracy: 0.8904 - val_loss: 0.3181 - val_accuracy: 0.8699\n",
      "Epoch 79/100\n",
      "1168/1168 [==============================] - 0s 35us/sample - loss: 0.2728 - accuracy: 0.8887 - val_loss: 0.3171 - val_accuracy: 0.8767\n",
      "Epoch 80/100\n",
      "1168/1168 [==============================] - 0s 34us/sample - loss: 0.2726 - accuracy: 0.8921 - val_loss: 0.3166 - val_accuracy: 0.8699\n",
      "Epoch 81/100\n",
      "1168/1168 [==============================] - 0s 33us/sample - loss: 0.2719 - accuracy: 0.8878 - val_loss: 0.3163 - val_accuracy: 0.8801\n",
      "Epoch 82/100\n",
      "1168/1168 [==============================] - 0s 34us/sample - loss: 0.2705 - accuracy: 0.8887 - val_loss: 0.3156 - val_accuracy: 0.8733\n",
      "Epoch 83/100\n",
      "1168/1168 [==============================] - 0s 35us/sample - loss: 0.2686 - accuracy: 0.8938 - val_loss: 0.3206 - val_accuracy: 0.8733\n",
      "Epoch 84/100\n",
      "1168/1168 [==============================] - 0s 34us/sample - loss: 0.2702 - accuracy: 0.8861 - val_loss: 0.3148 - val_accuracy: 0.8801\n",
      "Epoch 85/100\n",
      "1168/1168 [==============================] - 0s 34us/sample - loss: 0.2690 - accuracy: 0.8938 - val_loss: 0.3146 - val_accuracy: 0.8870\n",
      "Epoch 86/100\n",
      "1168/1168 [==============================] - 0s 35us/sample - loss: 0.2676 - accuracy: 0.8921 - val_loss: 0.3134 - val_accuracy: 0.8733\n",
      "Epoch 87/100\n",
      "1168/1168 [==============================] - 0s 34us/sample - loss: 0.2677 - accuracy: 0.8887 - val_loss: 0.3125 - val_accuracy: 0.8733\n",
      "Epoch 88/100\n",
      "1168/1168 [==============================] - 0s 33us/sample - loss: 0.2667 - accuracy: 0.8913 - val_loss: 0.3120 - val_accuracy: 0.8801\n",
      "Epoch 89/100\n",
      "1168/1168 [==============================] - 0s 35us/sample - loss: 0.2634 - accuracy: 0.8938 - val_loss: 0.3177 - val_accuracy: 0.8904\n",
      "Epoch 90/100\n",
      "1168/1168 [==============================] - 0s 33us/sample - loss: 0.2666 - accuracy: 0.8938 - val_loss: 0.3125 - val_accuracy: 0.8767\n",
      "Epoch 91/100\n",
      "1168/1168 [==============================] - 0s 34us/sample - loss: 0.2647 - accuracy: 0.8930 - val_loss: 0.3107 - val_accuracy: 0.8767\n",
      "Epoch 92/100\n",
      "1168/1168 [==============================] - 0s 33us/sample - loss: 0.2641 - accuracy: 0.8938 - val_loss: 0.3100 - val_accuracy: 0.8767\n",
      "Epoch 93/100\n",
      "1168/1168 [==============================] - 0s 35us/sample - loss: 0.2631 - accuracy: 0.8904 - val_loss: 0.3102 - val_accuracy: 0.8801\n",
      "Epoch 94/100\n",
      "1168/1168 [==============================] - 0s 32us/sample - loss: 0.2627 - accuracy: 0.8921 - val_loss: 0.3103 - val_accuracy: 0.8836\n",
      "Epoch 95/100\n",
      "1168/1168 [==============================] - 0s 34us/sample - loss: 0.2626 - accuracy: 0.8947 - val_loss: 0.3094 - val_accuracy: 0.8870\n",
      "Epoch 96/100\n",
      "1168/1168 [==============================] - 0s 34us/sample - loss: 0.2614 - accuracy: 0.8913 - val_loss: 0.3086 - val_accuracy: 0.8767\n",
      "Epoch 97/100\n",
      "1168/1168 [==============================] - 0s 34us/sample - loss: 0.2613 - accuracy: 0.8921 - val_loss: 0.3081 - val_accuracy: 0.8767\n",
      "Epoch 98/100\n",
      "1168/1168 [==============================] - 0s 34us/sample - loss: 0.2601 - accuracy: 0.8930 - val_loss: 0.3094 - val_accuracy: 0.8836\n",
      "Epoch 99/100\n",
      "1168/1168 [==============================] - 0s 33us/sample - loss: 0.2598 - accuracy: 0.8964 - val_loss: 0.3082 - val_accuracy: 0.8836\n",
      "Epoch 100/100\n",
      "1168/1168 [==============================] - 0s 34us/sample - loss: 0.2592 - accuracy: 0.8930 - val_loss: 0.3071 - val_accuracy: 0.8836\n"
     ]
    }
   ],
   "source": [
    "model = create_model({\n",
    "    'loss': 'binary_crossentropy',\n",
    "    'optimizer': 'sgd',\n",
    "    'epochs': 100,\n",
    "    'batch': 32,\n",
    "    'split': 0.2\n",
    "}, features, labels)"
   ]
  },
  {
   "cell_type": "code",
   "execution_count": 10,
   "metadata": {},
   "outputs": [
    {
     "data": {
      "image/png": "[encoded data removed]",
      "text/plain": [
       "<Figure size 1080x432 with 1 Axes>"
      ]
     },
     "metadata": {
      "needs_background": "light"
     },
     "output_type": "display_data"
    }
   ],
   "source": [
    "inspect(model)"
   ]
  },
  {
   "cell_type": "code",
   "execution_count": 44,
   "metadata": {},
   "outputs": [],
   "source": [
    "prediction = predict(['14260', '8', '5', '1145', '2', '1', '4', '9', '1', '836'], model)"
   ]
  },
  {
   "cell_type": "code",
   "execution_count": 45,
   "metadata": {},
   "outputs": [
    {
     "name": "stdout",
     "output_type": "stream",
     "text": [
      "0.99337786\n"
     ]
    }
   ],
   "source": [
    "print(prediction)"
   ]
  },
  {
   "cell_type": "code",
   "execution_count": null,
   "metadata": {},
   "outputs": [],
   "source": []
  }
 ],
 "metadata": {
  "kernelspec": {
   "display_name": "Python 3",
   "language": "python",
   "name": "python3"
  },
  "language_info": {
   "codemirror_mode": {
    "name": "ipython",
    "version": 3
   },
   "file_extension": ".py",
   "mimetype": "text/x-python",
   "name": "python",
   "nbconvert_exporter": "python",
   "pygments_lexer": "ipython3",
   "version": "3.7.6"
  }
 },
 "nbformat": 4,
 "nbformat_minor": 2
}
